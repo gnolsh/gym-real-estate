{
 "cells": [
  {
   "cell_type": "markdown",
   "metadata": {},
   "source": [
    "# 0. Install Dependencies"
   ]
  },
  {
   "cell_type": "code",
   "execution_count": null,
   "metadata": {},
   "outputs": [],
   "source": [
    "!pip install tensorflow==2.3.0\n",
    "!pip install gym\n",
    "!pip install keras\n",
    "!pip install keras-rl2\n",
    "!pip install pygame"
   ]
  },
  {
   "cell_type": "markdown",
   "metadata": {},
   "source": [
    "# 1. Test Random Environment with OpenAI Gym"
   ]
  },
  {
   "cell_type": "code",
   "execution_count": 1,
   "metadata": {},
   "outputs": [
    {
     "name": "stdout",
     "output_type": "stream",
     "text": [
      "pygame 2.0.1 (SDL 2.0.14, Python 3.7.6)\n",
      "Hello from the pygame community. https://www.pygame.org/contribute.html\n"
     ]
    }
   ],
   "source": [
    "from gym import Env\n",
    "from gym.spaces import Discrete, Box\n",
    "import numpy as np\n",
    "import random\n",
    "import pygame\n",
    "import os\n",
    "import nltk\n",
    "import string"
   ]
  },
  {
   "cell_type": "code",
   "execution_count": 2,
   "metadata": {},
   "outputs": [],
   "source": [
    "window_width, window_height = 1000, 500"
   ]
  },
  {
   "cell_type": "code",
   "execution_count": 3,
   "metadata": {},
   "outputs": [],
   "source": [
    "class RealEstateEnv(Env):\n",
    "    def __init__(self):\n",
    "        # Actions we can take, lower price, same price, increase price\n",
    "        self.action_space = Discrete(3)\n",
    "        # House prices array\n",
    "        self.observation_space = Box(low=np.array([100000]), high=np.array([1100000]))\n",
    "        # Set start price\n",
    "        self.state = 450000 + random.randint(-100000,100000)\n",
    "        # Set finding length\n",
    "        self.finding_length = 180\n",
    "    \n",
    "    \n",
    "    def init_render(self):\n",
    "        pygame.init()\n",
    "        self.window = pygame.display.set_mode((window_width, window_height))\n",
    "        pygame.display.set_caption(\"Real Estate Env\")\n",
    "        self.clock = pygame.time.Clock()\n",
    "    \n",
    "    \n",
    "    def text(self, text):\n",
    "        font_color=(0,150,250)\n",
    "        font_obj=pygame.font.Font(None, 25)\n",
    "        # Render the objects\n",
    "        text_obj = []\n",
    "        for t in text:\n",
    "            text_obj.append(font_obj.render(t, True, font_color))\n",
    "        return text_obj\n",
    "        \n",
    "    def step(self, action, customer):\n",
    "        # Apply action\n",
    "        if action == 0:\n",
    "            self.state -= 10000\n",
    "        elif action == 2:\n",
    "            self.state += 10000\n",
    "        \n",
    "        # Reduce house finding length by 1 second\n",
    "        self.finding_length -= 1\n",
    "        \n",
    "        # Calculate reward\n",
    "        if self.state >= customer.low_price and self.state <= customer.high_price: \n",
    "            reward = 1\n",
    "        else:\n",
    "            reward = -1\n",
    "        \n",
    "        # Check if finding time is over\n",
    "        if self.finding_length <= 0: \n",
    "            done = True\n",
    "        else:\n",
    "            done = False\n",
    "        \n",
    "        # Apply price fluctuations\n",
    "        # self.state += random.randint(-10000,25000)\n",
    "        # Set placeholder for info\n",
    "        info = {}\n",
    "        \n",
    "        # Return step information\n",
    "        return self.state, reward, done, info\n",
    "\n",
    "    def render(self, text_obj):\n",
    "        # Implement viz\n",
    "        self.window.fill((0,0,0))\n",
    "        # draw orientation\n",
    "        for i in range(0, len(text_obj)):\n",
    "            self.window.blit(text_obj[i],(22,i*50))\n",
    "        #left person\n",
    "        #head\n",
    "        pygame.draw.circle(self.window, (66, 84, 81), (int(150), int(320)), 40)\n",
    "        #eyes\n",
    "        pygame.draw.circle(self.window, (0, 200, 200), (int(130), int(310)), 8)\n",
    "        pygame.draw.circle(self.window, (0, 200, 200), (int(170), int(310)), 8)\n",
    "        #body\n",
    "        pygame.draw.rect(self.window, (45,45,45), [120, 360, 60, 140])\n",
    "        #right person\n",
    "        #head\n",
    "        pygame.draw.circle(self.window, (250,227,130), (window_width-int(150), int(320)), 40)\n",
    "        #eyes\n",
    "        pygame.draw.circle(self.window, (0, 20, 20), (window_width-int(130), int(310)), 8)\n",
    "        pygame.draw.circle(self.window, (0, 20, 20), (window_width-int(170), int(310)), 8)\n",
    "        #mouth\n",
    "        pygame.draw.line(self.window, (255, 205, 205), [window_width-int(135), int(338)],[window_width-int(165),int(338)], 6)\n",
    "        #body\n",
    "        pygame.draw.rect(self.window, (220,197,100), [window_width-180, 360, 60, 140])\n",
    "        pygame.display.update()\n",
    "    \n",
    "    def reset(self):\n",
    "        # Reset base price\n",
    "        self.state = 450000 + random.randint(-100000,100000)\n",
    "        # Reset finding time\n",
    "        self.finding_length = 180\n",
    "        return self.state"
   ]
  },
  {
   "cell_type": "code",
   "execution_count": 4,
   "metadata": {},
   "outputs": [],
   "source": [
    "class Customer():\n",
    "    def __init__(self, num):\n",
    "        self.square_footage = random.randint(500, 4500)\n",
    "        self.num_bedrooms = round(self.square_footage / 800)\n",
    "        self.low_price = self.square_footage * 450\n",
    "        self.high_price = self.square_footage * 550\n",
    "        self.id = num\n",
    "    \n",
    "    @staticmethod\n",
    "    def load_customers(x):\n",
    "        arr = []\n",
    "        \n",
    "        for i in range(x):\n",
    "            arr.append(Customer(i))\n",
    "        \n",
    "        return arr"
   ]
  },
  {
   "cell_type": "code",
   "execution_count": 5,
   "metadata": {},
   "outputs": [],
   "source": [
    "class Houses():\n",
    "    def __init__(self, properties):\n",
    "        self.square_footage = properties[0]\n",
    "        self.bedrooms = properties[1]\n",
    "        self.price = properties[2]"
   ]
  },
  {
   "cell_type": "code",
   "execution_count": 7,
   "metadata": {},
   "outputs": [
    {
     "name": "stdout",
     "output_type": "stream",
     "text": [
      "12384\n"
     ]
    }
   ],
   "source": [
    "data_dir = \"./data\"\n",
    "num_properties = 3\n",
    "with open(data_dir) as f:\n",
    "    s = f.read()\n",
    "\n",
    "word_list = nltk.word_tokenize(s)\n",
    "\n",
    "for word in word_list:\n",
    "    if not word.isdigit():\n",
    "        word_list.remove(word)\n",
    "\n",
    "houses = []\n",
    "temp2 = []\n",
    "for i in range(len(word_list)):\n",
    "    temp2.append(word_list[i])\n",
    "    if len(temp2) == 3:\n",
    "        house = Houses(temp2)\n",
    "        houses.append(house)\n",
    "        temp2.clear()"
   ]
  },
  {
   "cell_type": "code",
   "execution_count": null,
   "metadata": {},
   "outputs": [],
   "source": [
    "env = RealEstateEnv()\n",
    "env.init_render()"
   ]
  },
  {
   "cell_type": "code",
   "execution_count": null,
   "metadata": {},
   "outputs": [],
   "source": [
    "env.observation_space.sample()"
   ]
  },
  {
   "cell_type": "code",
   "execution_count": null,
   "metadata": {},
   "outputs": [],
   "source": [
    "episodes = 10\n",
    "num_customers = 5\n",
    "customers = Customer.load_customers(num_customers)\n",
    "pygame.init()\n",
    "for i in range(num_customers):\n",
    "    for episode in range(1, episodes+1):\n",
    "        state = env.reset()\n",
    "        done = False\n",
    "        score = 0 \n",
    "\n",
    "        while not done:\n",
    "            textArray = [\"Score: \" + str(score), \"State: \" + str(env.state), \"High Price: \" + str(customers[i].high_price), \"Low Price: \" + str(customers[i].low_price)]\n",
    "            text_obj = env.text(textArray)\n",
    "            env.clock.tick(30)\n",
    "            action = env.action_space.sample()\n",
    "            n_state, reward, done, info = env.step(action, customers[i])\n",
    "            score+=reward\n",
    "            env.render(text_obj)\n",
    "            for eve in pygame.event.get():\n",
    "                if eve.type==pygame.QUIT:\n",
    "                    pygame.quit()\n",
    "                    #sys.exit()\n",
    "        print('Customer ID: {} Episode:{} Score:{}'.format(customers[i].id, episode, score))\n",
    "\n",
    "pygame.quit()"
   ]
  },
  {
   "cell_type": "markdown",
   "metadata": {},
   "source": [
    "# 2. Create a Deep Learning Model with Keras"
   ]
  },
  {
   "cell_type": "code",
   "execution_count": null,
   "metadata": {},
   "outputs": [],
   "source": [
    "import numpy as np\n",
    "from tensorflow.keras.models import Sequential\n",
    "from tensorflow.keras.layers import Dense, Flatten\n",
    "from tensorflow.keras.optimizers import Adam"
   ]
  },
  {
   "cell_type": "code",
   "execution_count": null,
   "metadata": {},
   "outputs": [],
   "source": [
    "states = env.observation_space.shape\n",
    "actions = env.action_space.n"
   ]
  },
  {
   "cell_type": "code",
   "execution_count": null,
   "metadata": {},
   "outputs": [],
   "source": [
    "actions"
   ]
  },
  {
   "cell_type": "code",
   "execution_count": null,
   "metadata": {},
   "outputs": [],
   "source": [
    "def build_model(states, actions):\n",
    "    model = Sequential()    \n",
    "    model.add(Dense(24, activation='relu', input_shape=states))\n",
    "    model.add(Dense(24, activation='relu'))\n",
    "    model.add(Dense(actions, activation='linear'))\n",
    "    return model"
   ]
  },
  {
   "cell_type": "code",
   "execution_count": null,
   "metadata": {},
   "outputs": [],
   "source": [
    "del model "
   ]
  },
  {
   "cell_type": "code",
   "execution_count": null,
   "metadata": {},
   "outputs": [],
   "source": [
    "model = build_model(states, actions)"
   ]
  },
  {
   "cell_type": "code",
   "execution_count": null,
   "metadata": {},
   "outputs": [],
   "source": [
    "model.summary()"
   ]
  },
  {
   "cell_type": "markdown",
   "metadata": {},
   "source": [
    "# 3. Build Agent with Keras-RL"
   ]
  },
  {
   "cell_type": "code",
   "execution_count": null,
   "metadata": {},
   "outputs": [],
   "source": [
    "from rl.agents import DQNAgent\n",
    "from rl.policy import BoltzmannQPolicy\n",
    "from rl.memory import SequentialMemory"
   ]
  },
  {
   "cell_type": "code",
   "execution_count": null,
   "metadata": {},
   "outputs": [],
   "source": [
    "def build_agent(model, actions):\n",
    "    policy = BoltzmannQPolicy()\n",
    "    memory = SequentialMemory(limit=50000, window_length=1)\n",
    "    dqn = DQNAgent(model=model, memory=memory, policy=policy, \n",
    "                  nb_actions=actions, nb_steps_warmup=10, target_model_update=1e-2)\n",
    "    return dqn"
   ]
  },
  {
   "cell_type": "code",
   "execution_count": null,
   "metadata": {},
   "outputs": [],
   "source": [
    "dqn = build_agent(model, actions)\n",
    "dqn.compile(Adam(lr=1e-3), metrics=['mae'])\n",
    "dqn.fit(env, nb_steps=50000, visualize=False, verbose=1)"
   ]
  },
  {
   "cell_type": "code",
   "execution_count": null,
   "metadata": {},
   "outputs": [],
   "source": [
    "scores = dqn.test(env, nb_episodes=100, visualize=False)\n",
    "print(np.mean(scores.history['episode_reward']))"
   ]
  },
  {
   "cell_type": "code",
   "execution_count": null,
   "metadata": {},
   "outputs": [],
   "source": [
    "_ = dqn.test(env, nb_episodes=15, visualize=True)"
   ]
  },
  {
   "cell_type": "markdown",
   "metadata": {},
   "source": [
    "# 4. Reloading Agent from Memory"
   ]
  },
  {
   "cell_type": "code",
   "execution_count": null,
   "metadata": {},
   "outputs": [],
   "source": [
    "dqn.save_weights('dqn_weights.h5f', overwrite=True)"
   ]
  },
  {
   "cell_type": "code",
   "execution_count": null,
   "metadata": {},
   "outputs": [],
   "source": [
    "del model\n",
    "del dqn\n",
    "del env"
   ]
  },
  {
   "cell_type": "code",
   "execution_count": null,
   "metadata": {},
   "outputs": [],
   "source": [
    "env = gym.make('CartPole-v0')\n",
    "actions = env.action_space.n\n",
    "states = env.observation_space.shape[0]\n",
    "model = build_model(states, actions)\n",
    "dqn = build_agent(model, actions)\n",
    "dqn.compile(Adam(lr=1e-3), metrics=['mae'])"
   ]
  },
  {
   "cell_type": "code",
   "execution_count": null,
   "metadata": {},
   "outputs": [],
   "source": [
    "dqn.load_weights('dqn_weights.h5f')"
   ]
  },
  {
   "cell_type": "code",
   "execution_count": null,
   "metadata": {},
   "outputs": [],
   "source": [
    "_ = dqn.test(env, nb_episodes=5, visualize=True)"
   ]
  },
  {
   "cell_type": "code",
   "execution_count": null,
   "metadata": {},
   "outputs": [],
   "source": []
  }
 ],
 "metadata": {
  "kernelspec": {
   "display_name": "Python 3",
   "language": "python",
   "name": "python3"
  },
  "language_info": {
   "codemirror_mode": {
    "name": "ipython",
    "version": 3
   },
   "file_extension": ".py",
   "mimetype": "text/x-python",
   "name": "python",
   "nbconvert_exporter": "python",
   "pygments_lexer": "ipython3",
   "version": "3.7.6"
  }
 },
 "nbformat": 4,
 "nbformat_minor": 2
}
