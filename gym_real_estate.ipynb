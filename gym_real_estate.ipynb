{
 "cells": [
  {
   "cell_type": "markdown",
   "metadata": {},
   "source": [
    "# 0. Install Dependencies"
   ]
  },
  {
   "cell_type": "code",
   "execution_count": null,
   "metadata": {},
   "outputs": [],
   "source": [
    "!pip install tensorflow==2.3.0\n",
    "!pip install gym\n",
    "!pip install keras\n",
    "!pip install keras-rl2\n",
    "!pip install pygame\n",
    "!pip install requests"
   ]
  },
  {
   "cell_type": "markdown",
   "metadata": {},
   "source": [
    "# 1. Test Random Environment with OpenAI Gym"
   ]
  },
  {
   "cell_type": "code",
   "execution_count": null,
   "metadata": {},
   "outputs": [],
   "source": [
    "from gym import Env\n",
    "from gym.spaces import Discrete, Box\n",
    "import numpy as np\n",
    "import random\n",
    "import pygame\n",
    "import os\n",
    "import string\n",
    "import requests\n",
    "import json"
   ]
  },
  {
   "cell_type": "code",
   "execution_count": null,
   "metadata": {},
   "outputs": [],
   "source": [
    "window_width, window_height = 1000, 500"
   ]
  },
  {
   "cell_type": "code",
   "execution_count": null,
   "metadata": {},
   "outputs": [],
   "source": [
    "class RealEstateEnv(Env):\n",
    "    def __init__(self, houses):\n",
    "        # Actions we can take, lower price, same price, increase price\n",
    "        self.action_space = Discrete(3)\n",
    "        # House prices array\n",
    "        self.observation_space = Box(low=np.array([100000]), high=np.array([1100000]))\n",
    "        # Set state\n",
    "        self.state = -1000\n",
    "        # Set finding length\n",
    "        self.finding_length = 180\n",
    "        \n",
    "        self.pos = random.randint(0, len(houses)-1)\n",
    "        self.house = houses[self.pos]\n",
    "        self.num_properties = 5\n",
    "        \n",
    "        self.best_house = self.house\n",
    "        self.best_state = self.state\n",
    "    \n",
    "    def init_render(self):\n",
    "        pygame.init()\n",
    "        self.window = pygame.display.set_mode((window_width, window_height))\n",
    "        pygame.display.set_caption(\"Real Estate Env\")\n",
    "        self.clock = pygame.time.Clock()\n",
    "    \n",
    "    \n",
    "    def text(self, text):\n",
    "        font_color=(0,150,250)\n",
    "        font_obj=pygame.font.Font(None, 25)\n",
    "        # Render the objects\n",
    "        text_obj = []\n",
    "        for t in text:\n",
    "            text_obj.append(font_obj.render(t, True, font_color))\n",
    "        return text_obj\n",
    "        \n",
    "    def step(self, action, customer, houses):\n",
    "        \n",
    "        \n",
    "        # Apply action\n",
    "        if action == 0 and self.pos != 0:\n",
    "            self.pos -= 1\n",
    "        elif action == 2 and self.pos != len(houses)-1:\n",
    "            self.pos += 1\n",
    "        \n",
    "        self.house = houses[self.pos]\n",
    "        \n",
    "        weights = [1/16, 3/16, 3/16, 1/2, 1/16]\n",
    "        \n",
    "        if self.house.bedrooms < customer.num_bedrooms:\n",
    "            bedroom_dif = (self.house.bedrooms / customer.num_bedrooms)*weights[0]\n",
    "        else:\n",
    "            bedroom_dif = (customer.num_bedrooms / self.house.bedrooms)*weights[0]\n",
    "        if self.house.lot_sqft < customer.lot_sqft:\n",
    "            square_footage_dif1 = (self.house.lot_sqft / customer.lot_sqft)*weights[1]\n",
    "        else:\n",
    "            square_footage_dif1 = (customer.lot_sqft / self.house.lot_sqft)*weights[1]\n",
    "        if self.house.house_sqft < customer.house_sqft:\n",
    "            square_footage_dif2 = (self.house.house_sqft / customer.house_sqft)*weights[2]\n",
    "        else:\n",
    "            square_footage_dif2 = (customer.house_sqft / self.house.house_sqft)*weights[2]\n",
    "        if self.house.price < customer.price:\n",
    "            price_dif = (self.house.price / customer.price)*weights[3]\n",
    "        else:\n",
    "            price_dif = (customer.price / self.house.price)*weights[3]\n",
    "        if self.house.bathrooms < customer.num_bathrooms:\n",
    "            bathroom_dif = (self.house.bathrooms / customer.num_bathrooms)*weights[4]\n",
    "        else:\n",
    "            bathroom_dif = (customer.num_bathrooms / self.house.bathrooms)*weights[4]\n",
    "        \n",
    "        state2 = bedroom_dif + square_footage_dif1 + price_dif + square_footage_dif2 + bathroom_dif\n",
    "        \n",
    "        # Reduce house finding length by 1 second\n",
    "        self.finding_length -= 1\n",
    "        \n",
    "        # Calculate reward\n",
    "        if abs(1 - self.state) > abs(1 - state2): \n",
    "            self.state = state2\n",
    "            reward = 1\n",
    "            if abs(1 - self.best_state) > abs(1 - self.state):\n",
    "                self.best_state = self.state\n",
    "                self.best_house = houses[self.pos]\n",
    "        else:\n",
    "            reward = -1\n",
    "        \n",
    "        # Check if finding time is over\n",
    "        if self.finding_length <= 0: \n",
    "            done = True\n",
    "        else:\n",
    "            done = False\n",
    "        \n",
    "        # Apply price fluctuations\n",
    "        # self.state += random.randint(-10000,25000)\n",
    "        # Set placeholder for info\n",
    "        info = {}\n",
    "        \n",
    "        self.state = round(self.state, 3)\n",
    "        self.best_state = round(self.best_state, 3)\n",
    "        \n",
    "        # Return step information\n",
    "        return self.state, reward, done, info\n",
    "\n",
    "    def render(self, text_obj):\n",
    "        # Implement viz\n",
    "        self.window.fill((0,0,0))\n",
    "        \n",
    "        # score\n",
    "        for i in range(5):\n",
    "            self.window.blit(text_obj[i],(i*160, 0))\n",
    "        \n",
    "        # other properties\n",
    "        count = 5\n",
    "        for i in range(self.num_properties):\n",
    "            for j in range(3):\n",
    "                self.window.blit(text_obj[count], (200*i, j*50+50))\n",
    "                count += 1\n",
    "        \n",
    "        #left person\n",
    "        #head\n",
    "        pygame.draw.circle(self.window, (66, 84, 81), (int(150), int(320)), 40)\n",
    "        #eyes\n",
    "        pygame.draw.circle(self.window, (0, 200, 200), (int(130), int(310)), 8)\n",
    "        pygame.draw.circle(self.window, (0, 200, 200), (int(170), int(310)), 8)\n",
    "        #body\n",
    "        pygame.draw.rect(self.window, (45,45,45), [120, 360, 60, 140])\n",
    "        pygame.draw.line(self.window, (55, 55, 55), [0, 30],[window_width,30], 3)\n",
    "        pygame.draw.line(self.window, (55, 55, 55), [0, 180],[window_width,180], 3)\n",
    "        \n",
    "        pygame.display.update()\n",
    "        \n",
    "    \n",
    "    def reset(self):\n",
    "        # Reset base score\n",
    "        self.state = -1000\n",
    "        # Reset finding time\n",
    "        self.finding_length = 180\n",
    "        self.pos = random.randint(0, len(houses)-1)\n",
    "        self.house = houses[self.pos]\n",
    "        return self.state"
   ]
  },
  {
   "cell_type": "code",
   "execution_count": null,
   "metadata": {},
   "outputs": [],
   "source": [
    "class Customer():\n",
    "    def __init__(self, num, price):\n",
    "        self.price = price\n",
    "        self.lot_sqft = random.randint(500, 2000)\n",
    "        self.house_sqft = int(self.lot_sqft * random.uniform(0.25, 9))\n",
    "        self.num_bedrooms = random.randint(1, 4)\n",
    "        self.num_bathrooms = random.randint(5, 20)\n",
    "        self.id = num\n",
    "        self.color = [random.randint(0, 255), random.randint(0, 255), random.randint(0, 255)]\n",
    "    \n",
    "    def render(self, env):\n",
    "        #right person\n",
    "        #head\n",
    "        pygame.draw.circle(env.window, (self.color[0],self.color[1],self.color[2]), (window_width-int(150), int(320)), 40)\n",
    "        #eyes\n",
    "        pygame.draw.circle(env.window, (0, 20, 20), (window_width-int(130), int(310)), 8)\n",
    "        pygame.draw.circle(env.window, (0, 20, 20), (window_width-int(170), int(310)), 8)\n",
    "        #mouth\n",
    "        pygame.draw.line(env.window, (255, 205, 205), [window_width-int(135), int(338)],[window_width-int(165),int(338)], 6)\n",
    "        #body\n",
    "        pygame.draw.rect(env.window, (self.color[0],self.color[1],self.color[2]), [window_width-180, 360, 60, 140])\n",
    "        pygame.display.update()\n",
    "    \n",
    "    @staticmethod\n",
    "    def load_customers(x):\n",
    "        arr = []\n",
    "        \n",
    "        for i in range(x):\n",
    "            arr.append(Customer(i + 1))\n",
    "        \n",
    "        return arr"
   ]
  },
  {
   "cell_type": "code",
   "execution_count": null,
   "metadata": {},
   "outputs": [],
   "source": [
    "class Houses():\n",
    "    def __init__(self, properties):\n",
    "        self.lot_sqft = int(properties[0])\n",
    "        self.bedrooms = int(properties[1])\n",
    "        self.price = int(properties[2])\n",
    "        self.bathrooms = int(properties[3])\n",
    "        self.house_sqft = int(properties[4])"
   ]
  },
  {
   "cell_type": "code",
   "execution_count": null,
   "metadata": {},
   "outputs": [],
   "source": [
    "# api data\n",
    "def jprint(obj):\n",
    "    text = json.dumps(obj, sort_keys=True, indent=4)\n",
    "    print(text)\n",
    "\n",
    "access_key = input(\"Server Token: \")\n",
    "data_api = requests.get(\"https://api.bridgedataoutput.com/api/v2/OData/test/Property?access_token=\" + access_key)\n",
    "lot_sizes_sqft = []\n",
    "house_sqft = []\n",
    "bedrooms_total = []\n",
    "list_prices = []\n",
    "bathrooms = []\n",
    "\n",
    "for i in range(10):\n",
    "    total_houses = data_api.json()['value']\n",
    "\n",
    "    for item in total_houses:\n",
    "        t1 = item['LotSizeSquareFeet']\n",
    "        lot_sizes_sqft.append(t1)\n",
    "        t2 = item['BedroomsTotal']\n",
    "        bedrooms_total.append(t2)\n",
    "        t3 = item['ListPrice']\n",
    "        list_prices.append(t3)\n",
    "        t4 = item['LivingArea']\n",
    "        house_sqft.append(t4)\n",
    "        t5 = item['BathroomsTotalInteger']\n",
    "        bathrooms.append(t5)\n",
    "    data_api = requests.get(data_api.json()['@odata.nextLink'])\n",
    "\n",
    "houses = []\n",
    "num_properties = 5\n",
    "for i in range(len(lot_sizes_sqft)):\n",
    "    temp2 = []\n",
    "    temp2.append(lot_sizes_sqft[i])\n",
    "    temp2.append(bedrooms_total[i])\n",
    "    temp2.append(list_prices[i])\n",
    "    temp2.append(bathrooms[i])\n",
    "    temp2.append(house_sqft[i])\n",
    "    house = Houses(temp2)\n",
    "    houses.append(house)\n",
    "\n",
    "houses = sorted(houses, key=lambda x: x.price)\n",
    "\n",
    "num = 1\n",
    "for house in houses:\n",
    "    print(\"House \" + str(num))\n",
    "    print(\"Price: {} Lot Square Footage: {} Bedrooms: {} Bathrooms: {} House Square Footage: {}\".format(house.price, house.lot_sqft, house.bedrooms, house.bathrooms, house.house_sqft))\n",
    "    num += 1\n",
    "    print()"
   ]
  },
  {
   "cell_type": "code",
   "execution_count": null,
   "metadata": {},
   "outputs": [],
   "source": [
    "env = RealEstateEnv(houses)\n",
    "env.init_render()"
   ]
  },
  {
   "cell_type": "code",
   "execution_count": null,
   "metadata": {},
   "outputs": [],
   "source": [
    "env.observation_space.sample()"
   ]
  },
  {
   "cell_type": "code",
   "execution_count": null,
   "metadata": {},
   "outputs": [],
   "source": [
    "episodes = 10\n",
    "num_customers = 10\n",
    "customers = []\n",
    "customers.append(Customer(1, 500000))\n",
    "pygame.init()\n",
    "commission = 0\n",
    "goal = 100000\n",
    "num_customer = 1\n",
    "while commission < goal:\n",
    "    env.best_state = env.state\n",
    "    env.best_house = env.house\n",
    "    for episode in range(1, episodes+1):\n",
    "        state = env.reset()\n",
    "        done = False\n",
    "        score = 0\n",
    "\n",
    "        while not done:\n",
    "            textArray = [\"Fit: \" + str(env.state),\n",
    "                         \"Best Fit: \" + str(env.best_state),\n",
    "                         \"Customer ID: \" + str(customers[num_customer-1].id),\n",
    "                         \"Episode: \" + str(episode),\n",
    "                         \"Commissions: \" + str(commission),\n",
    "                         \"Curr Price: \" + str(env.house.price), \n",
    "                         \"Goal Price: \" + str(customers[num_customer-1].price), \n",
    "                         \"Best Price: \" + str(env.best_house.price), \n",
    "                         \"Curr HFootage: \" + str(env.house.house_sqft), \n",
    "                         \"Goal HFootage: \" + str(customers[num_customer-1].house_sqft), \n",
    "                         \"Best HFootage: \" + str(env.best_house.house_sqft), \n",
    "                         \"Curr Bedrooms: \" + str(env.house.bedrooms), \n",
    "                         \"Goal Bedrooms: \" + str(customers[num_customer-1].num_bedrooms),\n",
    "                         \"Best Bedrooms: \" + str(env.best_house.bedrooms), \n",
    "                         \"Curr Bathrooms: \" + str(env.house.bathrooms),\n",
    "                         \"Goal Bathrooms: \" + str(customers[num_customer-1].num_bathrooms),\n",
    "                         \"Best Bathrooms: \" + str(env.best_house.bathrooms), \n",
    "                         \"Curr LFootage: \" + str(env.house.lot_sqft),\n",
    "                         \"Goal LFootage: \" + str(customers[num_customer-1].lot_sqft),\n",
    "                         \"Best LFootage: \" + str(env.best_house.lot_sqft), \n",
    "                        ]\n",
    "            text_obj = env.text(textArray)\n",
    "            env.clock.tick(30)\n",
    "            action = env.action_space.sample()\n",
    "            n_state, reward, done, info = env.step(action, customers[num_customer-1], houses)\n",
    "            score+=reward\n",
    "            env.render(text_obj)\n",
    "            customers[num_customer-1].render(env)\n",
    "            for eve in pygame.event.get():\n",
    "                if eve.type==pygame.QUIT:\n",
    "                    pygame.quit()\n",
    "                    #sys.exit()\n",
    "        print('Customer ID: {} Episode:{} Score:{}'.format(customers[num_customer-1].id, episode, score))\n",
    "        \n",
    "    num_customer += 1\n",
    "\n",
    "    # commission code\n",
    "    commission += round(env.best_house.price * 0.03)\n",
    "    difference = abs(1 - env.best_state)\n",
    "    new_price = 0\n",
    "    if difference <= 0.1:\n",
    "        new_price = round(env.best_house.price * (1.2 - difference*2))\n",
    "    elif difference > 0.1 and difference <= 0.2:\n",
    "        new_price = round(env.best_house.price * random.choice([0.9, 1.1]))\n",
    "    else:\n",
    "        new_price = round(env.best_house.price * (1 - difference))\n",
    "    customers.append(Customer(num_customer, new_price))\n",
    "        \n",
    "\n",
    "pygame.quit()"
   ]
  },
  {
   "cell_type": "markdown",
   "metadata": {},
   "source": [
    "# 2. Create a Deep Learning Model with Keras"
   ]
  },
  {
   "cell_type": "code",
   "execution_count": null,
   "metadata": {},
   "outputs": [],
   "source": [
    "import numpy as np\n",
    "from tensorflow.keras.models import Sequential\n",
    "from tensorflow.keras.layers import Dense, Flatten\n",
    "from tensorflow.keras.optimizers import Adam"
   ]
  },
  {
   "cell_type": "code",
   "execution_count": null,
   "metadata": {},
   "outputs": [],
   "source": [
    "states = env.observation_space.shape\n",
    "actions = env.action_space.n"
   ]
  },
  {
   "cell_type": "code",
   "execution_count": null,
   "metadata": {},
   "outputs": [],
   "source": [
    "actions"
   ]
  },
  {
   "cell_type": "code",
   "execution_count": null,
   "metadata": {},
   "outputs": [],
   "source": [
    "def build_model(states, actions):\n",
    "    model = Sequential()    \n",
    "    model.add(Dense(24, activation='relu', input_shape=states))\n",
    "    model.add(Dense(24, activation='relu'))\n",
    "    model.add(Dense(actions, activation='linear'))\n",
    "    return model"
   ]
  },
  {
   "cell_type": "code",
   "execution_count": null,
   "metadata": {},
   "outputs": [],
   "source": [
    "del model "
   ]
  },
  {
   "cell_type": "code",
   "execution_count": null,
   "metadata": {},
   "outputs": [],
   "source": [
    "model = build_model(states, actions)"
   ]
  },
  {
   "cell_type": "code",
   "execution_count": null,
   "metadata": {},
   "outputs": [],
   "source": [
    "model.summary()"
   ]
  },
  {
   "cell_type": "markdown",
   "metadata": {},
   "source": [
    "# 3. Build Agent with Keras-RL"
   ]
  },
  {
   "cell_type": "code",
   "execution_count": null,
   "metadata": {},
   "outputs": [],
   "source": [
    "from rl.agents import DQNAgent\n",
    "from rl.policy import BoltzmannQPolicy\n",
    "from rl.memory import SequentialMemory"
   ]
  },
  {
   "cell_type": "code",
   "execution_count": null,
   "metadata": {},
   "outputs": [],
   "source": [
    "def build_agent(model, actions):\n",
    "    policy = BoltzmannQPolicy()\n",
    "    memory = SequentialMemory(limit=50000, window_length=1)\n",
    "    dqn = DQNAgent(model=model, memory=memory, policy=policy, \n",
    "                  nb_actions=actions, nb_steps_warmup=10, target_model_update=1e-2)\n",
    "    return dqn"
   ]
  },
  {
   "cell_type": "code",
   "execution_count": null,
   "metadata": {},
   "outputs": [],
   "source": [
    "dqn = build_agent(model, actions)\n",
    "dqn.compile(Adam(lr=1e-3), metrics=['mae'])\n",
    "dqn.fit(env, nb_steps=50000, visualize=False, verbose=1)"
   ]
  },
  {
   "cell_type": "code",
   "execution_count": null,
   "metadata": {},
   "outputs": [],
   "source": [
    "scores = dqn.test(env, nb_episodes=100, visualize=False)\n",
    "print(np.mean(scores.history['episode_reward']))"
   ]
  },
  {
   "cell_type": "code",
   "execution_count": null,
   "metadata": {},
   "outputs": [],
   "source": [
    "_ = dqn.test(env, nb_episodes=15, visualize=True)"
   ]
  },
  {
   "cell_type": "markdown",
   "metadata": {},
   "source": [
    "# 4. Reloading Agent from Memory"
   ]
  },
  {
   "cell_type": "code",
   "execution_count": null,
   "metadata": {},
   "outputs": [],
   "source": [
    "dqn.save_weights('dqn_weights.h5f', overwrite=True)"
   ]
  },
  {
   "cell_type": "code",
   "execution_count": null,
   "metadata": {},
   "outputs": [],
   "source": [
    "del model\n",
    "del dqn\n",
    "del env"
   ]
  },
  {
   "cell_type": "code",
   "execution_count": null,
   "metadata": {},
   "outputs": [],
   "source": [
    "env = gym.make('CartPole-v0')\n",
    "actions = env.action_space.n\n",
    "states = env.observation_space.shape[0]\n",
    "model = build_model(states, actions)\n",
    "dqn = build_agent(model, actions)\n",
    "dqn.compile(Adam(lr=1e-3), metrics=['mae'])"
   ]
  },
  {
   "cell_type": "code",
   "execution_count": null,
   "metadata": {},
   "outputs": [],
   "source": [
    "dqn.load_weights('dqn_weights.h5f')"
   ]
  },
  {
   "cell_type": "code",
   "execution_count": null,
   "metadata": {},
   "outputs": [],
   "source": [
    "_ = dqn.test(env, nb_episodes=5, visualize=True)"
   ]
  },
  {
   "cell_type": "code",
   "execution_count": null,
   "metadata": {},
   "outputs": [],
   "source": []
  }
 ],
 "metadata": {
  "kernelspec": {
   "display_name": "Python 3",
   "language": "python",
   "name": "python3"
  },
  "language_info": {
   "codemirror_mode": {
    "name": "ipython",
    "version": 3
   },
   "file_extension": ".py",
   "mimetype": "text/x-python",
   "name": "python",
   "nbconvert_exporter": "python",
   "pygments_lexer": "ipython3",
   "version": "3.7.6"
  }
 },
 "nbformat": 4,
 "nbformat_minor": 2
}
